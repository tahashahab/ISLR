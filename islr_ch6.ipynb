{
 "cells": [
  {
   "cell_type": "code",
   "execution_count": null,
   "metadata": {},
   "outputs": [],
   "source": [
    "import numpy as np\n",
    "import pandas as pd \n",
    "import seaborn as sns \n",
    "import matplotlib.pyplot as plt \n",
    "import statsmodels.api as sm\n",
    "from mpl_toolkits import mplot3d\n",
    "\n",
    "from sklearn import datasets\n",
    "from sklearn.linear_model import LinearRegression, LogisticRegression, Lasso, Ridge\n",
    "from sklearn.discriminant_analysis import LinearDiscriminantAnalysis\n",
    "from sklearn.discriminant_analysis import QuadraticDiscriminantAnalysis\n",
    "from sklearn.neighbors import KNeighborsClassifier\n",
    "from sklearn.preprocessing import scale\n",
    "from sklearn.model_selection import train_test_split, cross_val_score, LeaveOneOut, KFold, StratifiedKFold\n",
    "from sklearn.metrics import mean_squared_error, r2_score, confusion_matrix, precision_score, recall_score\n",
    "from sklearn.preprocessing import PolynomialFeatures\n",
    "from sklearn.utils import resample\n",
    "from patsy import dmatrices\n",
    "from statsmodels.sandbox.regression.predstd import wls_prediction_std\n",
    "from statsmodels.nonparametric.smoothers_lowess import lowess\n",
    "from statsmodels.graphics.gofplots import ProbPlot\n",
    "from statsmodels.discrete.discrete_model import Logit\n",
    "import bootstrapped.bootstrap as bs\n",
    "import bootstrapped.stats_functions as bs_stats\n",
    "import itertools\n",
    "import time\n",
    "\n",
    "import warnings\n",
    "warnings.filterwarnings('ignore')\n",
    "\n",
    "%matplotlib inline"
   ]
  },
  {
   "cell_type": "code",
   "execution_count": 2,
   "metadata": {},
   "outputs": [],
   "source": [
    "def diagnostic_plots(mod):\n",
    "    sns.set_style('darkgrid')\n",
    "    f, ax = plt.subplots(2,2, figsize=(12,10))\n",
    "    \n",
    "    smoothed = lowess(mod.resid, mod.fittedvalues)\n",
    "    \n",
    "    sns.scatterplot(x=mod.fittedvalues, y=mod.resid, ax=ax[0,0], alpha=0.5)\n",
    "    ax[0,0].plot(smoothed[:,0], smoothed[:,1], color='red', alpha=0.8)\n",
    "    ax[0,0].axhline(y=0, color='grey', ls='dashed', alpha=0.5)\n",
    "    ax[0,0].set_xlabel('Fitted Values')\n",
    "    ax[0,0].set_ylabel('Residuals')\n",
    "    ax[0,0].set_title('Residuals vs Fitted')\n",
    "\n",
    "    sm.qqplot(mod.resid, ax=ax[0,1], fit=True, line='45', alpha=0.5)\n",
    "    ax[0,1].set_title('Normal Q-Q')\n",
    "    \n",
    "    student_residuals = mod.get_influence().resid_studentized_internal\n",
    "    sqrt_student_residuals = pd.Series(np.sqrt(np.abs(student_residuals)))\n",
    "    sqrt_student_residuals.index = mod.resid.index\n",
    "    smoothed = lowess(sqrt_student_residuals,mod.fittedvalues)\n",
    "    \n",
    "    sns.scatterplot(x=mod.fittedvalues, y=sqrt_student_residuals, ax=ax[1,0], alpha=0.5)\n",
    "    ax[1,0].plot(smoothed[:,0], smoothed[:,1], color='red', alpha=0.8)\n",
    "    ax[1,0].set_xlabel('Fitted values')\n",
    "    ax[1,0].set_ylabel('$\\sqrt{|Studentized \\ Residuals|}$')\n",
    "    ax[1,0].set_title('Scale-Location')\n",
    "    \n",
    "    smoothed = lowess(mod.get_influence().resid_studentized_internal, mod.get_influence().hat_matrix_diag)\n",
    "    \n",
    "    sns.scatterplot(x=mod.get_influence().hat_matrix_diag, y=mod.get_influence().resid_studentized_internal, ax=ax[1,1], alpha=0.5)\n",
    "    ax[1,1].axhline(y=0, color='grey', linestyle='dashed', alpha=0.5)\n",
    "    ax[1,1].plot(smoothed[:,0], smoothed[:,1], color='red', alpha=0.8)\n",
    "    ax[1,1].set_xlabel('Leverage')\n",
    "    ax[1,1].set_ylabel('Studentized Residuals')\n",
    "    ax[1,1].set_title('Residuals vs Leverage')"
   ]
  },
  {
   "cell_type": "code",
   "execution_count": 3,
   "metadata": {},
   "outputs": [],
   "source": [
    "def cfm(pred, y_true, class1='0', class2='1', error=False):\n",
    "    ''' \n",
    "    Returns a Dataframe of the confusion matrix for a classification model given predictions and the true response values\n",
    "    If error is passed as True, then it will also return the test error rate for the model \n",
    "    '''\n",
    "    outside = ['Actual', 'Actual']\n",
    "    inside = [class1, class2]\n",
    "    outside2 = ['Prediction', 'Prediction']\n",
    "    hier_index = list(zip(outside,inside))\n",
    "    hier_col = list(zip(outside2, inside))\n",
    "    hier_index = pd.MultiIndex.from_tuples(hier_index)\n",
    "    hier_col = pd.MultiIndex.from_tuples(hier_col)\n",
    "    if error == True:\n",
    "        print(f' Test Error Rate: {np.mean(pred != y_true):.2%}')\n",
    "    return pd.DataFrame(confusion_matrix(pred, y_true), index=hier_index, columns=hier_col)"
   ]
  },
  {
   "cell_type": "markdown",
   "metadata": {},
   "source": [
    "## Chapter 6\n",
    "### Lab\n",
    "#### Best Subset Selection"
   ]
  },
  {
   "cell_type": "code",
   "execution_count": 4,
   "metadata": {},
   "outputs": [],
   "source": [
    "hit = pd.read_csv('Hitters.csv')\n",
    "hit.drop('Unnamed: 0', axis=1, inplace=True)"
   ]
  },
  {
   "cell_type": "code",
   "execution_count": 5,
   "metadata": {},
   "outputs": [
    {
     "data": {
      "text/plain": [
       "(322, 20)"
      ]
     },
     "execution_count": 5,
     "metadata": {},
     "output_type": "execute_result"
    }
   ],
   "source": [
    "np.shape(hit)"
   ]
  },
  {
   "cell_type": "code",
   "execution_count": 6,
   "metadata": {},
   "outputs": [
    {
     "data": {
      "text/plain": [
       "59"
      ]
     },
     "execution_count": 6,
     "metadata": {},
     "output_type": "execute_result"
    }
   ],
   "source": [
    "hit['Salary'].isnull().sum() # There are 59 missing values in the Salary column"
   ]
  },
  {
   "cell_type": "code",
   "execution_count": 7,
   "metadata": {},
   "outputs": [],
   "source": [
    "hit.drop(hit[hit['Salary'].isnull()].index, inplace=True)"
   ]
  },
  {
   "cell_type": "code",
   "execution_count": 8,
   "metadata": {},
   "outputs": [
    {
     "data": {
      "text/plain": [
       "0"
      ]
     },
     "execution_count": 8,
     "metadata": {},
     "output_type": "execute_result"
    }
   ],
   "source": [
    "hit['Salary'].isnull().sum() "
   ]
  },
  {
   "cell_type": "code",
   "execution_count": 9,
   "metadata": {},
   "outputs": [
    {
     "data": {
      "text/plain": [
       "(263, 20)"
      ]
     },
     "execution_count": 9,
     "metadata": {},
     "output_type": "execute_result"
    }
   ],
   "source": [
    "np.shape(hit)"
   ]
  },
  {
   "cell_type": "markdown",
   "metadata": {},
   "source": [
    "I will be using the method for best subset selection that is outlined in this lab http://www.science.smith.edu/~jcrouser/SDS293/labs/lab8-py.html"
   ]
  },
  {
   "cell_type": "code",
   "execution_count": 10,
   "metadata": {},
   "outputs": [],
   "source": [
    "hit_dummies = pd.get_dummies(hit, drop_first=True)\n",
    "y = hit['Salary']\n",
    "X = hit.drop(['Salary', 'League', 'Division', 'NewLeague'], axis=1).astype('float64')\n",
    "X = pd.concat([X, hit_dummies[['League_N', 'Division_W', 'NewLeague_N']]], axis=1)"
   ]
  },
  {
   "cell_type": "code",
   "execution_count": 11,
   "metadata": {},
   "outputs": [],
   "source": [
    "def processSubset(feature_set):\n",
    "    mod = sm.OLS(y, X[list(feature_set)])\n",
    "    regr = mod.fit()\n",
    "    RSS = ((regr.predict(X[list(feature_set)]) - y)**2).sum()\n",
    "    return {'model':regr, 'RSS':RSS}"
   ]
  },
  {
   "cell_type": "code",
   "execution_count": 12,
   "metadata": {},
   "outputs": [],
   "source": [
    "def getBest(k):\n",
    "    tic = time.time()\n",
    "    results = []\n",
    "    for combo in itertools.combinations(X.columns, k):\n",
    "        results.append(processSubset(combo))\n",
    "    models = pd.DataFrame(results)\n",
    "    best_model = models.loc[models['RSS'].argmin()]\n",
    "    toc = time.time()\n",
    "    print('Processed', models.shape[0],'models on', k, 'predictors in', (toc-tic), 'seconds')\n",
    "    return best_model"
   ]
  },
  {
   "cell_type": "code",
   "execution_count": 13,
   "metadata": {},
   "outputs": [
    {
     "name": "stdout",
     "output_type": "stream",
     "text": [
      "Processed 19 models on 1 predictors in 0.08267736434936523 seconds\n",
      "Processed 171 models on 2 predictors in 0.33908700942993164 seconds\n",
      "Processed 969 models on 3 predictors in 2.049464464187622 seconds\n",
      "Processed 3876 models on 4 predictors in 8.213659286499023 seconds\n",
      "Processed 11628 models on 5 predictors in 27.25680422782898 seconds\n",
      "Processed 27132 models on 6 predictors in 76.90198230743408 seconds\n",
      "Processed 50388 models on 7 predictors in 135.3689694404602 seconds\n",
      "Total elapsed time: 258.0609793663025 seconds.\n"
     ]
    }
   ],
   "source": [
    "models_best = pd.DataFrame(columns=['RSS', 'model'])\n",
    "tic = time.time()\n",
    "for i in range(1,8):\n",
    "    models_best.loc[i] = getBest(i)\n",
    "toc = time.time()\n",
    "print('Total elapsed time:', (toc-tic), 'seconds.')"
   ]
  },
  {
   "cell_type": "code",
   "execution_count": 14,
   "metadata": {},
   "outputs": [
    {
     "name": "stdout",
     "output_type": "stream",
     "text": [
      "                                 OLS Regression Results                                \n",
      "=======================================================================================\n",
      "Dep. Variable:                 Salary   R-squared (uncentered):                   0.761\n",
      "Model:                            OLS   Adj. R-squared (uncentered):              0.760\n",
      "Method:                 Least Squares   F-statistic:                              416.7\n",
      "Date:                Wed, 10 Mar 2021   Prob (F-statistic):                    5.80e-82\n",
      "Time:                        15:59:40   Log-Likelihood:                         -1907.6\n",
      "No. Observations:                 263   AIC:                                      3819.\n",
      "Df Residuals:                     261   BIC:                                      3826.\n",
      "Df Model:                           2                                                  \n",
      "Covariance Type:            nonrobust                                                  \n",
      "==============================================================================\n",
      "                 coef    std err          t      P>|t|      [0.025      0.975]\n",
      "------------------------------------------------------------------------------\n",
      "Hits           2.9538      0.261     11.335      0.000       2.441       3.467\n",
      "CRBI           0.6788      0.066     10.295      0.000       0.549       0.809\n",
      "==============================================================================\n",
      "Omnibus:                      117.551   Durbin-Watson:                   1.933\n",
      "Prob(Omnibus):                  0.000   Jarque-Bera (JB):              654.612\n",
      "Skew:                           1.729   Prob(JB):                    7.12e-143\n",
      "Kurtosis:                       9.912   Cond. No.                         5.88\n",
      "==============================================================================\n",
      "\n",
      "Notes:\n",
      "[1] R² is computed without centering (uncentered) since the model does not contain a constant.\n",
      "[2] Standard Errors assume that the covariance matrix of the errors is correctly specified.\n"
     ]
    }
   ],
   "source": [
    "print(models_best.loc[2, 'model'].summary())"
   ]
  },
  {
   "cell_type": "code",
   "execution_count": 15,
   "metadata": {},
   "outputs": [
    {
     "name": "stdout",
     "output_type": "stream",
     "text": [
      "Processed 1 models on 19 predictors in 0.006002187728881836 seconds\n",
      "                                 OLS Regression Results                                \n",
      "=======================================================================================\n",
      "Dep. Variable:                 Salary   R-squared (uncentered):                   0.810\n",
      "Model:                            OLS   Adj. R-squared (uncentered):              0.795\n",
      "Method:                 Least Squares   F-statistic:                              54.64\n",
      "Date:                Wed, 10 Mar 2021   Prob (F-statistic):                    1.31e-76\n",
      "Time:                        15:59:40   Log-Likelihood:                         -1877.9\n",
      "No. Observations:                 263   AIC:                                      3794.\n",
      "Df Residuals:                     244   BIC:                                      3862.\n",
      "Df Model:                          19                                                  \n",
      "Covariance Type:            nonrobust                                                  \n",
      "===============================================================================\n",
      "                  coef    std err          t      P>|t|      [0.025      0.975]\n",
      "-------------------------------------------------------------------------------\n",
      "AtBat          -1.5975      0.600     -2.663      0.008      -2.779      -0.416\n",
      "Hits            7.0330      2.374      2.963      0.003       2.357      11.709\n",
      "HmRun           4.1210      6.229      0.662      0.509      -8.148      16.390\n",
      "Runs           -2.3776      2.994     -0.794      0.428      -8.276       3.520\n",
      "RBI            -1.0873      2.613     -0.416      0.678      -6.234       4.059\n",
      "Walks           6.1560      1.836      3.352      0.001       2.539       9.773\n",
      "Years           9.5196     10.128      0.940      0.348     -10.429      29.468\n",
      "CAtBat         -0.2018      0.135     -1.497      0.136      -0.467       0.064\n",
      "CHits           0.1380      0.678      0.204      0.839      -1.197       1.473\n",
      "CHmRun         -0.1669      1.625     -0.103      0.918      -3.367       3.033\n",
      "CRuns           1.5070      0.753      2.001      0.047       0.023       2.991\n",
      "CRBI            0.7742      0.696      1.113      0.267      -0.596       2.144\n",
      "CWalks         -0.7851      0.329     -2.384      0.018      -1.434      -0.137\n",
      "PutOuts         0.2856      0.078      3.673      0.000       0.132       0.439\n",
      "Assists         0.3137      0.220      1.427      0.155      -0.119       0.747\n",
      "Errors         -2.0463      4.350     -0.470      0.638     -10.615       6.522\n",
      "League_N       86.8139     78.463      1.106      0.270     -67.737     241.365\n",
      "Division_W    -97.5160     39.084     -2.495      0.013    -174.500     -20.532\n",
      "NewLeague_N   -23.9133     79.361     -0.301      0.763    -180.234     132.407\n",
      "==============================================================================\n",
      "Omnibus:                       97.217   Durbin-Watson:                   2.024\n",
      "Prob(Omnibus):                  0.000   Jarque-Bera (JB):              626.205\n",
      "Skew:                           1.320   Prob(JB):                    1.05e-136\n",
      "Kurtosis:                      10.083   Cond. No.                     2.06e+04\n",
      "==============================================================================\n",
      "\n",
      "Notes:\n",
      "[1] R² is computed without centering (uncentered) since the model does not contain a constant.\n",
      "[2] Standard Errors assume that the covariance matrix of the errors is correctly specified.\n",
      "[3] The condition number is large, 2.06e+04. This might indicate that there are\n",
      "strong multicollinearity or other numerical problems.\n"
     ]
    }
   ],
   "source": [
    "print(getBest(19)[\"model\"].summary())"
   ]
  },
  {
   "cell_type": "code",
   "execution_count": 16,
   "metadata": {},
   "outputs": [
    {
     "data": {
      "text/plain": [
       "0.7614950002332872"
      ]
     },
     "execution_count": 16,
     "metadata": {},
     "output_type": "execute_result"
    }
   ],
   "source": [
    "models_best.loc[2, \"model\"].rsquared"
   ]
  },
  {
   "cell_type": "code",
   "execution_count": 17,
   "metadata": {},
   "outputs": [
    {
     "data": {
      "text/plain": [
       "1    0.664637\n",
       "2    0.761495\n",
       "3    0.771757\n",
       "4    0.782885\n",
       "5    0.789008\n",
       "6    0.795140\n",
       "7    0.797728\n",
       "dtype: float64"
      ]
     },
     "execution_count": 17,
     "metadata": {},
     "output_type": "execute_result"
    }
   ],
   "source": [
    "models_best.apply(lambda row: row[1].rsquared, axis=1)"
   ]
  },
  {
   "cell_type": "code",
   "execution_count": 18,
   "metadata": {},
   "outputs": [
    {
     "data": {
      "text/plain": [
       "Text(0, 0.5, 'BIC')"
      ]
     },
     "execution_count": 18,
     "metadata": {},
     "output_type": "execute_result"
    },
    {
     "data": {
      "image/png": "[encoded data removed]",
      "text/plain": [
       "<Figure size 1440x720 with 4 Axes>"
      ]
     },
     "metadata": {
      "needs_background": "light"
     },
     "output_type": "display_data"
    }
   ],
   "source": [
    "plt.figure(figsize=(20,10))\n",
    "plt.rcParams.update({'font.size': 18, 'lines.markersize': 10})\n",
    "plt.subplot(2, 2, 1)\n",
    "\n",
    "plt.plot(models_best[\"RSS\"])\n",
    "plt.xlabel('Predictors')\n",
    "plt.ylabel('RSS')\n",
    "\n",
    "rsquared_adj = models_best.apply(lambda row: row[1].rsquared_adj, axis=1)\n",
    "\n",
    "plt.subplot(2, 2, 2)\n",
    "plt.plot(rsquared_adj)\n",
    "plt.plot(rsquared_adj.argmax(), rsquared_adj.max(), 'rx')\n",
    "plt.xlabel('Predictors')\n",
    "plt.ylabel('adjusted rsquared')\n",
    "\n",
    "\n",
    "aic = models_best.apply(lambda row: row[1].aic, axis=1)\n",
    "\n",
    "plt.subplot(2, 2, 3)\n",
    "plt.plot(aic)\n",
    "plt.plot(aic.argmin(), aic.min(), 'rx')\n",
    "plt.xlabel('Predictors')\n",
    "plt.ylabel('AIC')\n",
    "\n",
    "bic = models_best.apply(lambda row: row[1].bic, axis=1)\n",
    "\n",
    "plt.subplot(2, 2, 4)\n",
    "plt.plot(bic)\n",
    "plt.plot(bic.argmin(), bic.min(), 'rx')\n",
    "plt.xlabel('Predictors')\n",
    "plt.ylabel('BIC')"
   ]
  },
  {
   "cell_type": "markdown",
   "metadata": {},
   "source": [
    "#### Forward and Backward Stepwise Selection"
   ]
  },
  {
   "cell_type": "code",
   "execution_count": 19,
   "metadata": {},
   "outputs": [],
   "source": [
    "def forward(predictors):\n",
    "\n",
    "    remaining_predictors = [p for p in X.columns if p not in predictors]\n",
    "    tic = time.time()\n",
    "    results = []\n",
    "    for p in remaining_predictors:\n",
    "        results.append(processSubset(predictors+[p]))\n",
    "    \n",
    "    models = pd.DataFrame(results)\n",
    "    \n",
    "    best_model = models.loc[models['RSS'].argmin()]\n",
    "    toc = time.time()\n",
    "    print(\"Processed \", models.shape[0], \"models on\", len(predictors)+1, \"predictors in\", (toc-tic), \"seconds.\")\n",
    "    \n",
    "    return best_model"
   ]
  },
  {
   "cell_type": "code",
   "execution_count": 20,
   "metadata": {},
   "outputs": [
    {
     "name": "stdout",
     "output_type": "stream",
     "text": [
      "Processed  19 models on 1 predictors in 0.04301047325134277 seconds.\n",
      "Processed  18 models on 2 predictors in 0.04201865196228027 seconds.\n",
      "Processed  17 models on 3 predictors in 0.04101872444152832 seconds.\n",
      "Processed  16 models on 4 predictors in 0.04201865196228027 seconds.\n",
      "Processed  15 models on 5 predictors in 0.03800010681152344 seconds.\n",
      "Processed  14 models on 6 predictors in 0.03499889373779297 seconds.\n",
      "Processed  13 models on 7 predictors in 0.03700137138366699 seconds.\n",
      "Processed  12 models on 8 predictors in 0.03101515769958496 seconds.\n",
      "Processed  11 models on 9 predictors in 0.02800607681274414 seconds.\n",
      "Processed  10 models on 10 predictors in 0.02701544761657715 seconds.\n",
      "Processed  9 models on 11 predictors in 0.027998685836791992 seconds.\n",
      "Processed  8 models on 12 predictors in 0.02399587631225586 seconds.\n",
      "Processed  7 models on 13 predictors in 0.0200042724609375 seconds.\n",
      "Processed  6 models on 14 predictors in 0.01799607276916504 seconds.\n",
      "Processed  5 models on 15 predictors in 0.019012928009033203 seconds.\n",
      "Processed  4 models on 16 predictors in 0.014004945755004883 seconds.\n",
      "Processed  3 models on 17 predictors in 0.01001119613647461 seconds.\n",
      "Processed  2 models on 18 predictors in 0.008010387420654297 seconds.\n",
      "Processed  1 models on 19 predictors in 0.00400090217590332 seconds.\n",
      "Total elapsed time: 0.5611283779144287 seconds.\n"
     ]
    }
   ],
   "source": [
    "models_fwd = pd.DataFrame(columns=[\"RSS\", \"model\"])\n",
    "tic = time.time()\n",
    "predictors = []\n",
    "for i in range(1,len(X.columns)+1):    \n",
    "    models_fwd.loc[i] = forward(predictors)\n",
    "    predictors = models_fwd.loc[i][\"model\"].model.exog_names\n",
    "toc = time.time()\n",
    "print(\"Total elapsed time:\", (toc-tic), \"seconds.\")"
   ]
  },
  {
   "cell_type": "code",
   "execution_count": 21,
   "metadata": {},
   "outputs": [
    {
     "name": "stdout",
     "output_type": "stream",
     "text": [
      "                                 OLS Regression Results                                \n",
      "=======================================================================================\n",
      "Dep. Variable:                 Salary   R-squared (uncentered):                   0.665\n",
      "Model:                            OLS   Adj. R-squared (uncentered):              0.663\n",
      "Method:                 Least Squares   F-statistic:                              519.2\n",
      "Date:                Wed, 10 Mar 2021   Prob (F-statistic):                    4.20e-64\n",
      "Time:                        15:59:41   Log-Likelihood:                         -1952.4\n",
      "No. Observations:                 263   AIC:                                      3907.\n",
      "Df Residuals:                     262   BIC:                                      3910.\n",
      "Df Model:                           1                                                  \n",
      "Covariance Type:            nonrobust                                                  \n",
      "==============================================================================\n",
      "                 coef    std err          t      P>|t|      [0.025      0.975]\n",
      "------------------------------------------------------------------------------\n",
      "Hits           4.8833      0.214     22.787      0.000       4.461       5.305\n",
      "==============================================================================\n",
      "Omnibus:                       90.075   Durbin-Watson:                   1.949\n",
      "Prob(Omnibus):                  0.000   Jarque-Bera (JB):              293.080\n",
      "Skew:                           1.469   Prob(JB):                     2.28e-64\n",
      "Kurtosis:                       7.256   Cond. No.                         1.00\n",
      "==============================================================================\n",
      "\n",
      "Notes:\n",
      "[1] R² is computed without centering (uncentered) since the model does not contain a constant.\n",
      "[2] Standard Errors assume that the covariance matrix of the errors is correctly specified.\n",
      "                                 OLS Regression Results                                \n",
      "=======================================================================================\n",
      "Dep. Variable:                 Salary   R-squared (uncentered):                   0.761\n",
      "Model:                            OLS   Adj. R-squared (uncentered):              0.760\n",
      "Method:                 Least Squares   F-statistic:                              416.7\n",
      "Date:                Wed, 10 Mar 2021   Prob (F-statistic):                    5.80e-82\n",
      "Time:                        15:59:41   Log-Likelihood:                         -1907.6\n",
      "No. Observations:                 263   AIC:                                      3819.\n",
      "Df Residuals:                     261   BIC:                                      3826.\n",
      "Df Model:                           2                                                  \n",
      "Covariance Type:            nonrobust                                                  \n",
      "==============================================================================\n",
      "                 coef    std err          t      P>|t|      [0.025      0.975]\n",
      "------------------------------------------------------------------------------\n",
      "Hits           2.9538      0.261     11.335      0.000       2.441       3.467\n",
      "CRBI           0.6788      0.066     10.295      0.000       0.549       0.809\n",
      "==============================================================================\n",
      "Omnibus:                      117.551   Durbin-Watson:                   1.933\n",
      "Prob(Omnibus):                  0.000   Jarque-Bera (JB):              654.612\n",
      "Skew:                           1.729   Prob(JB):                    7.12e-143\n",
      "Kurtosis:                       9.912   Cond. No.                         5.88\n",
      "==============================================================================\n",
      "\n",
      "Notes:\n",
      "[1] R² is computed without centering (uncentered) since the model does not contain a constant.\n",
      "[2] Standard Errors assume that the covariance matrix of the errors is correctly specified.\n"
     ]
    }
   ],
   "source": [
    "print(models_fwd.loc[1, \"model\"].summary())\n",
    "print(models_fwd.loc[2, \"model\"].summary())"
   ]
  },
  {
   "cell_type": "code",
   "execution_count": 22,
   "metadata": {},
   "outputs": [
    {
     "name": "stdout",
     "output_type": "stream",
     "text": [
      "                                 OLS Regression Results                                \n",
      "=======================================================================================\n",
      "Dep. Variable:                 Salary   R-squared (uncentered):                   0.795\n",
      "Model:                            OLS   Adj. R-squared (uncentered):              0.790\n",
      "Method:                 Least Squares   F-statistic:                              166.3\n",
      "Date:                Wed, 10 Mar 2021   Prob (F-statistic):                    1.79e-85\n",
      "Time:                        15:59:41   Log-Likelihood:                         -1887.6\n",
      "No. Observations:                 263   AIC:                                      3787.\n",
      "Df Residuals:                     257   BIC:                                      3809.\n",
      "Df Model:                           6                                                  \n",
      "Covariance Type:            nonrobust                                                  \n",
      "==============================================================================\n",
      "                 coef    std err          t      P>|t|      [0.025      0.975]\n",
      "------------------------------------------------------------------------------\n",
      "AtBat         -1.5488      0.477     -3.248      0.001      -2.488      -0.610\n",
      "Hits           7.0190      1.613      4.352      0.000       3.843      10.195\n",
      "Walks          3.7513      1.212      3.095      0.002       1.364       6.138\n",
      "CRBI           0.6544      0.064     10.218      0.000       0.528       0.781\n",
      "PutOuts        0.2703      0.075      3.614      0.000       0.123       0.418\n",
      "Division_W  -104.4513     37.661     -2.773      0.006    -178.615     -30.287\n",
      "==============================================================================\n",
      "Omnibus:                      106.414   Durbin-Watson:                   1.986\n",
      "Prob(Omnibus):                  0.000   Jarque-Bera (JB):              768.429\n",
      "Skew:                           1.433   Prob(JB):                    1.37e-167\n",
      "Kurtosis:                      10.869   Cond. No.                     1.29e+03\n",
      "==============================================================================\n",
      "\n",
      "Notes:\n",
      "[1] R² is computed without centering (uncentered) since the model does not contain a constant.\n",
      "[2] Standard Errors assume that the covariance matrix of the errors is correctly specified.\n",
      "[3] The condition number is large, 1.29e+03. This might indicate that there are\n",
      "strong multicollinearity or other numerical problems.\n",
      "                                 OLS Regression Results                                \n",
      "=======================================================================================\n",
      "Dep. Variable:                 Salary   R-squared (uncentered):                   0.795\n",
      "Model:                            OLS   Adj. R-squared (uncentered):              0.790\n",
      "Method:                 Least Squares   F-statistic:                              166.3\n",
      "Date:                Wed, 10 Mar 2021   Prob (F-statistic):                    1.79e-85\n",
      "Time:                        15:59:41   Log-Likelihood:                         -1887.6\n",
      "No. Observations:                 263   AIC:                                      3787.\n",
      "Df Residuals:                     257   BIC:                                      3809.\n",
      "Df Model:                           6                                                  \n",
      "Covariance Type:            nonrobust                                                  \n",
      "==============================================================================\n",
      "                 coef    std err          t      P>|t|      [0.025      0.975]\n",
      "------------------------------------------------------------------------------\n",
      "Hits           7.0190      1.613      4.352      0.000       3.843      10.195\n",
      "CRBI           0.6544      0.064     10.218      0.000       0.528       0.781\n",
      "Division_W  -104.4513     37.661     -2.773      0.006    -178.615     -30.287\n",
      "PutOuts        0.2703      0.075      3.614      0.000       0.123       0.418\n",
      "AtBat         -1.5488      0.477     -3.248      0.001      -2.488      -0.610\n",
      "Walks          3.7513      1.212      3.095      0.002       1.364       6.138\n",
      "==============================================================================\n",
      "Omnibus:                      106.414   Durbin-Watson:                   1.986\n",
      "Prob(Omnibus):                  0.000   Jarque-Bera (JB):              768.429\n",
      "Skew:                           1.433   Prob(JB):                    1.37e-167\n",
      "Kurtosis:                      10.869   Cond. No.                     1.29e+03\n",
      "==============================================================================\n",
      "\n",
      "Notes:\n",
      "[1] R² is computed without centering (uncentered) since the model does not contain a constant.\n",
      "[2] Standard Errors assume that the covariance matrix of the errors is correctly specified.\n",
      "[3] The condition number is large, 1.29e+03. This might indicate that there are\n",
      "strong multicollinearity or other numerical problems.\n"
     ]
    }
   ],
   "source": [
    "print(models_best.loc[6, \"model\"].summary())\n",
    "print(models_fwd.loc[6, \"model\"].summary())"
   ]
  },
  {
   "cell_type": "markdown",
   "metadata": {},
   "source": [
    "#### Backward Selection"
   ]
  },
  {
   "cell_type": "code",
   "execution_count": 23,
   "metadata": {},
   "outputs": [],
   "source": [
    "def backward(predictors):\n",
    "    tic = time.time()\n",
    "    results = []\n",
    "    for combo in itertools.combinations(predictors, len(predictors)-1):\n",
    "        results.append(processSubset(combo))\n",
    "    \n",
    "    models = pd.DataFrame(results)\n",
    "    \n",
    "    best_model = models.loc[models['RSS'].argmin()]\n",
    "    \n",
    "    toc = time.time()\n",
    "    print(\"Processed \", models.shape[0], \"models on\", len(predictors)-1, \"predictors in\", (toc-tic), \"seconds.\")\n",
    "    \n",
    "    return best_model"
   ]
  },
  {
   "cell_type": "code",
   "execution_count": 24,
   "metadata": {},
   "outputs": [
    {
     "name": "stdout",
     "output_type": "stream",
     "text": [
      "Processed  19 models on 18 predictors in 0.054012298583984375 seconds.\n",
      "Processed  18 models on 17 predictors in 0.04902148246765137 seconds.\n",
      "Processed  17 models on 16 predictors in 0.0480191707611084 seconds.\n",
      "Processed  16 models on 15 predictors in 0.04400968551635742 seconds.\n",
      "Processed  15 models on 14 predictors in 0.042017221450805664 seconds.\n",
      "Processed  14 models on 13 predictors in 0.037999868392944336 seconds.\n",
      "Processed  13 models on 12 predictors in 0.03500771522521973 seconds.\n",
      "Processed  12 models on 11 predictors in 0.03000664710998535 seconds.\n",
      "Processed  11 models on 10 predictors in 0.0299990177154541 seconds.\n",
      "Processed  10 models on 9 predictors in 0.027005672454833984 seconds.\n",
      "Processed  9 models on 8 predictors in 0.024016380310058594 seconds.\n",
      "Processed  8 models on 7 predictors in 0.02100515365600586 seconds.\n",
      "Processed  7 models on 6 predictors in 0.019006967544555664 seconds.\n",
      "Processed  6 models on 5 predictors in 0.01500391960144043 seconds.\n",
      "Processed  5 models on 4 predictors in 0.011861085891723633 seconds.\n",
      "Processed  4 models on 3 predictors in 0.009999990463256836 seconds.\n",
      "Processed  3 models on 2 predictors in 0.007002115249633789 seconds.\n",
      "Processed  2 models on 1 predictors in 0.005001068115234375 seconds.\n",
      "Total elapsed time: 0.5281202793121338 seconds.\n"
     ]
    }
   ],
   "source": [
    "models_bwd = pd.DataFrame(columns=[\"RSS\", \"model\"], index = range(1,len(X.columns)))\n",
    "tic = time.time()\n",
    "predictors = X.columns\n",
    "while(len(predictors) > 1):  \n",
    "    models_bwd.loc[len(predictors)-1] = backward(predictors)\n",
    "    predictors = models_bwd.loc[len(predictors)-1][\"model\"].model.exog_names\n",
    "toc = time.time()\n",
    "print(\"Total elapsed time:\", (toc-tic), \"seconds.\")"
   ]
  },
  {
   "cell_type": "code",
   "execution_count": 25,
   "metadata": {},
   "outputs": [
    {
     "name": "stdout",
     "output_type": "stream",
     "text": [
      "------------\n",
      "Best Subset:\n",
      "------------\n",
      "Hits            1.680029\n",
      "Walks           3.399961\n",
      "CAtBat         -0.328835\n",
      "CHits           1.347017\n",
      "CHmRun          1.349373\n",
      "PutOuts         0.248166\n",
      "Division_W   -111.943760\n",
      "dtype: float64\n"
     ]
    }
   ],
   "source": [
    "print(\"------------\")\n",
    "print(\"Best Subset:\")\n",
    "print(\"------------\")\n",
    "print(models_best.loc[7, \"model\"].params)"
   ]
  },
  {
   "cell_type": "code",
   "execution_count": 26,
   "metadata": {},
   "outputs": [
    {
     "name": "stdout",
     "output_type": "stream",
     "text": [
      "-----------------\n",
      "Foward Selection:\n",
      "-----------------\n",
      "Hits            7.277149\n",
      "CRBI            0.652415\n",
      "Division_W   -110.656338\n",
      "PutOuts         0.259787\n",
      "AtBat          -1.644651\n",
      "Walks           3.684324\n",
      "League_N       49.978410\n",
      "dtype: float64\n"
     ]
    }
   ],
   "source": [
    "print(\"-----------------\")\n",
    "print(\"Foward Selection:\")\n",
    "print(\"-----------------\")\n",
    "print(models_fwd.loc[7, \"model\"].params)"
   ]
  },
  {
   "cell_type": "code",
   "execution_count": 27,
   "metadata": {},
   "outputs": [
    {
     "name": "stdout",
     "output_type": "stream",
     "text": [
      "-------------------\n",
      "Backward Selection:\n",
      "-------------------\n",
      "AtBat         -1.601655\n",
      "Hits           6.148449\n",
      "Walks          5.866033\n",
      "CRuns          1.097453\n",
      "CWalks        -0.650614\n",
      "PutOuts        0.310125\n",
      "Division_W   -95.027171\n",
      "dtype: float64\n"
     ]
    }
   ],
   "source": [
    "print(\"-------------------\")\n",
    "print(\"Backward Selection:\")\n",
    "print(\"-------------------\")\n",
    "print(models_bwd.loc[7, \"model\"].params)"
   ]
  },
  {
   "cell_type": "markdown",
   "metadata": {},
   "source": [
    "#### Ridge Regression"
   ]
  },
  {
   "cell_type": "code",
   "execution_count": 29,
   "metadata": {},
   "outputs": [],
   "source": [
    "hit = pd.read_csv('Hitters.csv')\n",
    "hit.drop('Unnamed: 0', axis=1, inplace=True)\n",
    "hit.drop(hit[hit['Salary'].isnull()].index, inplace=True)"
   ]
  },
  {
   "cell_type": "code",
   "execution_count": 31,
   "metadata": {},
   "outputs": [],
   "source": [
    "hit_dummies = pd.get_dummies(hit, drop_first=True)\n",
    "y = hit['Salary']\n",
    "X = hit.drop(['Salary', 'League', 'Division', 'NewLeague'], axis=1).astype('float64')\n",
    "X = pd.concat([X, hit_dummies[['League_N', 'Division_W', 'NewLeague_N']]], axis=1)"
   ]
  },
  {
   "cell_type": "code",
   "execution_count": null,
   "metadata": {},
   "outputs": [],
   "source": []
  }
 ],
 "metadata": {
  "kernelspec": {
   "display_name": "Python 3",
   "language": "python",
   "name": "python3"
  },
  "language_info": {
   "codemirror_mode": {
    "name": "ipython",
    "version": 3
   },
   "file_extension": ".py",
   "mimetype": "text/x-python",
   "name": "python",
   "nbconvert_exporter": "python",
   "pygments_lexer": "ipython3",
   "version": "3.8.5"
  }
 },
 "nbformat": 4,
 "nbformat_minor": 4
}
